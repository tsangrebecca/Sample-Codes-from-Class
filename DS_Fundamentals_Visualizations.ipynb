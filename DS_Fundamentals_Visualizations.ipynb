{
  "nbformat": 4,
  "nbformat_minor": 0,
  "metadata": {
    "colab": {
      "name": "DS_Fundamentals_Visualizations.ipynb",
      "provenance": [],
      "collapsed_sections": []
    },
    "kernelspec": {
      "name": "python3",
      "display_name": "Python 3"
    },
    "language_info": {
      "name": "python"
    }
  },
  "cells": [
    {
      "cell_type": "code",
      "execution_count": null,
      "metadata": {
        "id": "JWVxopai1kAZ"
      },
      "outputs": [],
      "source": [
        ""
      ]
    },
    {
      "cell_type": "markdown",
      "source": [
        "# Visualizing Your Data\n",
        "\n",
        "While being able to interpret and explain what's in a data set is a key skill for any data scientist or analyst, being able to communicate your findings is just as important. \n",
        "\n",
        "There are two very commonly used packages for visualization with Python:\n",
        "- matplotlib\n",
        "- seaborn"
      ],
      "metadata": {
        "id": "YmM_sE401qmR"
      }
    },
    {
      "cell_type": "code",
      "source": [
        "import matplotlib.pyplot as plt\n",
        "import seaborn as sns"
      ],
      "metadata": {
        "id": "mvF6T8uK183w"
      },
      "execution_count": 3,
      "outputs": []
    },
    {
      "cell_type": "markdown",
      "source": [
        "assign \"cars\" as the dataset"
      ],
      "metadata": {
        "id": "7dEZ3rrTO9n8"
      }
    },
    {
      "cell_type": "code",
      "source": [
        "cars = sns.load_dataset('mpg')\n",
        "cars.head()"
      ],
      "metadata": {
        "id": "f3QV5e18pZVS",
        "colab": {
          "base_uri": "https://localhost:8080/",
          "height": 206
        },
        "outputId": "1853a4dd-649a-4353-98a5-d5467dea8d28"
      },
      "execution_count": 5,
      "outputs": [
        {
          "output_type": "execute_result",
          "data": {
            "text/plain": [
              "    mpg  cylinders  displacement  horsepower  weight  acceleration  \\\n",
              "0  18.0          8         307.0       130.0    3504          12.0   \n",
              "1  15.0          8         350.0       165.0    3693          11.5   \n",
              "2  18.0          8         318.0       150.0    3436          11.0   \n",
              "3  16.0          8         304.0       150.0    3433          12.0   \n",
              "4  17.0          8         302.0       140.0    3449          10.5   \n",
              "\n",
              "   model_year origin                       name  \n",
              "0          70    usa  chevrolet chevelle malibu  \n",
              "1          70    usa          buick skylark 320  \n",
              "2          70    usa         plymouth satellite  \n",
              "3          70    usa              amc rebel sst  \n",
              "4          70    usa                ford torino  "
            ],
            "text/html": [
              "\n",
              "  <div id=\"df-dbe43159-4a17-426c-a416-9fbb43a40b99\">\n",
              "    <div class=\"colab-df-container\">\n",
              "      <div>\n",
              "<style scoped>\n",
              "    .dataframe tbody tr th:only-of-type {\n",
              "        vertical-align: middle;\n",
              "    }\n",
              "\n",
              "    .dataframe tbody tr th {\n",
              "        vertical-align: top;\n",
              "    }\n",
              "\n",
              "    .dataframe thead th {\n",
              "        text-align: right;\n",
              "    }\n",
              "</style>\n",
              "<table border=\"1\" class=\"dataframe\">\n",
              "  <thead>\n",
              "    <tr style=\"text-align: right;\">\n",
              "      <th></th>\n",
              "      <th>mpg</th>\n",
              "      <th>cylinders</th>\n",
              "      <th>displacement</th>\n",
              "      <th>horsepower</th>\n",
              "      <th>weight</th>\n",
              "      <th>acceleration</th>\n",
              "      <th>model_year</th>\n",
              "      <th>origin</th>\n",
              "      <th>name</th>\n",
              "    </tr>\n",
              "  </thead>\n",
              "  <tbody>\n",
              "    <tr>\n",
              "      <th>0</th>\n",
              "      <td>18.0</td>\n",
              "      <td>8</td>\n",
              "      <td>307.0</td>\n",
              "      <td>130.0</td>\n",
              "      <td>3504</td>\n",
              "      <td>12.0</td>\n",
              "      <td>70</td>\n",
              "      <td>usa</td>\n",
              "      <td>chevrolet chevelle malibu</td>\n",
              "    </tr>\n",
              "    <tr>\n",
              "      <th>1</th>\n",
              "      <td>15.0</td>\n",
              "      <td>8</td>\n",
              "      <td>350.0</td>\n",
              "      <td>165.0</td>\n",
              "      <td>3693</td>\n",
              "      <td>11.5</td>\n",
              "      <td>70</td>\n",
              "      <td>usa</td>\n",
              "      <td>buick skylark 320</td>\n",
              "    </tr>\n",
              "    <tr>\n",
              "      <th>2</th>\n",
              "      <td>18.0</td>\n",
              "      <td>8</td>\n",
              "      <td>318.0</td>\n",
              "      <td>150.0</td>\n",
              "      <td>3436</td>\n",
              "      <td>11.0</td>\n",
              "      <td>70</td>\n",
              "      <td>usa</td>\n",
              "      <td>plymouth satellite</td>\n",
              "    </tr>\n",
              "    <tr>\n",
              "      <th>3</th>\n",
              "      <td>16.0</td>\n",
              "      <td>8</td>\n",
              "      <td>304.0</td>\n",
              "      <td>150.0</td>\n",
              "      <td>3433</td>\n",
              "      <td>12.0</td>\n",
              "      <td>70</td>\n",
              "      <td>usa</td>\n",
              "      <td>amc rebel sst</td>\n",
              "    </tr>\n",
              "    <tr>\n",
              "      <th>4</th>\n",
              "      <td>17.0</td>\n",
              "      <td>8</td>\n",
              "      <td>302.0</td>\n",
              "      <td>140.0</td>\n",
              "      <td>3449</td>\n",
              "      <td>10.5</td>\n",
              "      <td>70</td>\n",
              "      <td>usa</td>\n",
              "      <td>ford torino</td>\n",
              "    </tr>\n",
              "  </tbody>\n",
              "</table>\n",
              "</div>\n",
              "      <button class=\"colab-df-convert\" onclick=\"convertToInteractive('df-dbe43159-4a17-426c-a416-9fbb43a40b99')\"\n",
              "              title=\"Convert this dataframe to an interactive table.\"\n",
              "              style=\"display:none;\">\n",
              "        \n",
              "  <svg xmlns=\"http://www.w3.org/2000/svg\" height=\"24px\"viewBox=\"0 0 24 24\"\n",
              "       width=\"24px\">\n",
              "    <path d=\"M0 0h24v24H0V0z\" fill=\"none\"/>\n",
              "    <path d=\"M18.56 5.44l.94 2.06.94-2.06 2.06-.94-2.06-.94-.94-2.06-.94 2.06-2.06.94zm-11 1L8.5 8.5l.94-2.06 2.06-.94-2.06-.94L8.5 2.5l-.94 2.06-2.06.94zm10 10l.94 2.06.94-2.06 2.06-.94-2.06-.94-.94-2.06-.94 2.06-2.06.94z\"/><path d=\"M17.41 7.96l-1.37-1.37c-.4-.4-.92-.59-1.43-.59-.52 0-1.04.2-1.43.59L10.3 9.45l-7.72 7.72c-.78.78-.78 2.05 0 2.83L4 21.41c.39.39.9.59 1.41.59.51 0 1.02-.2 1.41-.59l7.78-7.78 2.81-2.81c.8-.78.8-2.07 0-2.86zM5.41 20L4 18.59l7.72-7.72 1.47 1.35L5.41 20z\"/>\n",
              "  </svg>\n",
              "      </button>\n",
              "      \n",
              "  <style>\n",
              "    .colab-df-container {\n",
              "      display:flex;\n",
              "      flex-wrap:wrap;\n",
              "      gap: 12px;\n",
              "    }\n",
              "\n",
              "    .colab-df-convert {\n",
              "      background-color: #E8F0FE;\n",
              "      border: none;\n",
              "      border-radius: 50%;\n",
              "      cursor: pointer;\n",
              "      display: none;\n",
              "      fill: #1967D2;\n",
              "      height: 32px;\n",
              "      padding: 0 0 0 0;\n",
              "      width: 32px;\n",
              "    }\n",
              "\n",
              "    .colab-df-convert:hover {\n",
              "      background-color: #E2EBFA;\n",
              "      box-shadow: 0px 1px 2px rgba(60, 64, 67, 0.3), 0px 1px 3px 1px rgba(60, 64, 67, 0.15);\n",
              "      fill: #174EA6;\n",
              "    }\n",
              "\n",
              "    [theme=dark] .colab-df-convert {\n",
              "      background-color: #3B4455;\n",
              "      fill: #D2E3FC;\n",
              "    }\n",
              "\n",
              "    [theme=dark] .colab-df-convert:hover {\n",
              "      background-color: #434B5C;\n",
              "      box-shadow: 0px 1px 3px 1px rgba(0, 0, 0, 0.15);\n",
              "      filter: drop-shadow(0px 1px 2px rgba(0, 0, 0, 0.3));\n",
              "      fill: #FFFFFF;\n",
              "    }\n",
              "  </style>\n",
              "\n",
              "      <script>\n",
              "        const buttonEl =\n",
              "          document.querySelector('#df-dbe43159-4a17-426c-a416-9fbb43a40b99 button.colab-df-convert');\n",
              "        buttonEl.style.display =\n",
              "          google.colab.kernel.accessAllowed ? 'block' : 'none';\n",
              "\n",
              "        async function convertToInteractive(key) {\n",
              "          const element = document.querySelector('#df-dbe43159-4a17-426c-a416-9fbb43a40b99');\n",
              "          const dataTable =\n",
              "            await google.colab.kernel.invokeFunction('convertToInteractive',\n",
              "                                                     [key], {});\n",
              "          if (!dataTable) return;\n",
              "\n",
              "          const docLinkHtml = 'Like what you see? Visit the ' +\n",
              "            '<a target=\"_blank\" href=https://colab.research.google.com/notebooks/data_table.ipynb>data table notebook</a>'\n",
              "            + ' to learn more about interactive tables.';\n",
              "          element.innerHTML = '';\n",
              "          dataTable['output_type'] = 'display_data';\n",
              "          await google.colab.output.renderOutput(dataTable, element);\n",
              "          const docLink = document.createElement('div');\n",
              "          docLink.innerHTML = docLinkHtml;\n",
              "          element.appendChild(docLink);\n",
              "        }\n",
              "      </script>\n",
              "    </div>\n",
              "  </div>\n",
              "  "
            ]
          },
          "metadata": {},
          "execution_count": 5
        }
      ]
    },
    {
      "cell_type": "markdown",
      "source": [
        "## Bar Graphs\n",
        "Used to determine the quantity of categorical or discrete features. "
      ],
      "metadata": {
        "id": "IRsAlehJ1_vm"
      }
    },
    {
      "cell_type": "markdown",
      "source": [
        "Matplotlib, we use object orient method"
      ],
      "metadata": {
        "id": "9Mm5GqWNMBP5"
      }
    },
    {
      "cell_type": "code",
      "source": [
        "cars['origin'].value_counts()\n"
      ],
      "metadata": {
        "id": "zqAAXNEBpN0P",
        "colab": {
          "base_uri": "https://localhost:8080/"
        },
        "outputId": "5ec2469e-9754-4dc7-dff0-3019357e1b46"
      },
      "execution_count": 9,
      "outputs": [
        {
          "output_type": "execute_result",
          "data": {
            "text/plain": [
              "usa       249\n",
              "japan      79\n",
              "europe     70\n",
              "Name: origin, dtype: int64"
            ]
          },
          "metadata": {},
          "execution_count": 9
        }
      ]
    },
    {
      "cell_type": "code",
      "source": [
        ""
      ],
      "metadata": {
        "id": "tc-ztr29Nmbu"
      },
      "execution_count": null,
      "outputs": []
    },
    {
      "cell_type": "markdown",
      "source": [
        "and we go and assign this object as frequency_origin"
      ],
      "metadata": {
        "id": "FiScKcNKNvF0"
      }
    },
    {
      "cell_type": "code",
      "source": [
        "frequency_origin = cars['origin'].value_counts()\n",
        "frequency_origin"
      ],
      "metadata": {
        "colab": {
          "base_uri": "https://localhost:8080/"
        },
        "id": "mTdYKAt0N0Ri",
        "outputId": "888542fc-968d-478a-e493-ba04e813d0b5"
      },
      "execution_count": 10,
      "outputs": [
        {
          "output_type": "execute_result",
          "data": {
            "text/plain": [
              "usa       249\n",
              "japan      79\n",
              "europe     70\n",
              "Name: origin, dtype: int64"
            ]
          },
          "metadata": {},
          "execution_count": 10
        }
      ]
    },
    {
      "cell_type": "markdown",
      "source": [
        "We are using Matplotlib's Object Orient Method for data visualization here."
      ],
      "metadata": {
        "id": "tvKx392XOJOz"
      }
    },
    {
      "cell_type": "code",
      "source": [
        "fig, ax = plt.subplots()"
      ],
      "metadata": {
        "id": "o6f6tiCBNfLE"
      },
      "execution_count": null,
      "outputs": []
    },
    {
      "cell_type": "markdown",
      "source": [
        "fig means figure where the graph will overlay on. ax objects has a bar graph that we can overlay over our figured item."
      ],
      "metadata": {
        "id": "j0ownW_JMzJC"
      }
    },
    {
      "cell_type": "markdown",
      "source": [
        "our ax object has a bar graph"
      ],
      "metadata": {
        "id": "WbbRHH6cObRI"
      }
    },
    {
      "cell_type": "markdown",
      "source": [
        "type function ax.bar(x value, y value)\n",
        "our x value is frequency_origin.index (with just the words)"
      ],
      "metadata": {
        "id": "ae_7LQ8VOhGY"
      }
    },
    {
      "cell_type": "code",
      "source": [
        "frequency_origin.index"
      ],
      "metadata": {
        "colab": {
          "base_uri": "https://localhost:8080/"
        },
        "id": "t1Z6WqWxOrwB",
        "outputId": "e9020ae0-82ed-4063-98ac-39736fe150a2"
      },
      "execution_count": 11,
      "outputs": [
        {
          "output_type": "execute_result",
          "data": {
            "text/plain": [
              "Index(['usa', 'japan', 'europe'], dtype='object')"
            ]
          },
          "metadata": {},
          "execution_count": 11
        }
      ]
    },
    {
      "cell_type": "markdown",
      "source": [
        "our y value is frequency_origin"
      ],
      "metadata": {
        "id": "Ev8mpou7OzRA"
      }
    },
    {
      "cell_type": "code",
      "source": [
        "frequency_origin"
      ],
      "metadata": {
        "id": "lsVCK1ni2_A7",
        "colab": {
          "base_uri": "https://localhost:8080/"
        },
        "outputId": "1bee7a5c-6627-42fa-a55a-e3a7047d38ae"
      },
      "execution_count": 12,
      "outputs": [
        {
          "output_type": "execute_result",
          "data": {
            "text/plain": [
              "usa       249\n",
              "japan      79\n",
              "europe     70\n",
              "Name: origin, dtype: int64"
            ]
          },
          "metadata": {},
          "execution_count": 12
        }
      ]
    },
    {
      "cell_type": "markdown",
      "source": [
        "and then we plot x and y for the bar graph"
      ],
      "metadata": {
        "id": "KqLnUy30PKks"
      }
    },
    {
      "cell_type": "markdown",
      "source": [
        "we need both lines of code to plot it. if i just type the 2nd line, it won't give me the graph."
      ],
      "metadata": {
        "id": "4KtC8styPtWk"
      }
    },
    {
      "cell_type": "code",
      "source": [
        "fig, ax = plt.subplots()\n",
        "ax.bar(frequency_origin.index, frequency_origin)"
      ],
      "metadata": {
        "colab": {
          "base_uri": "https://localhost:8080/",
          "height": 282
        },
        "id": "MSo4vwJEPNVz",
        "outputId": "12a9881e-a065-46f4-e3b1-ace5ac08af71"
      },
      "execution_count": 17,
      "outputs": [
        {
          "output_type": "execute_result",
          "data": {
            "text/plain": [
              "<BarContainer object of 3 artists>"
            ]
          },
          "metadata": {},
          "execution_count": 17
        },
        {
          "output_type": "display_data",
          "data": {
            "text/plain": [
              "<Figure size 432x288 with 1 Axes>"
            ],
            "image/png": "[encoded data removed]"
          },
          "metadata": {
            "needs_background": "light"
          }
        }
      ]
    },
    {
      "cell_type": "markdown",
      "source": [
        "Now let's do model year"
      ],
      "metadata": {
        "id": "eUKfyf4dP6i-"
      }
    },
    {
      "cell_type": "code",
      "source": [
        "frequency_modelyear = cars['model_year'].value_counts()\n",
        "\n",
        "fig, ax = plt.subplots()\n",
        "\n",
        "ax.bar(frequency_modelyear.index, frequency_modelyear);"
      ],
      "metadata": {
        "colab": {
          "base_uri": "https://localhost:8080/",
          "height": 265
        },
        "id": "fEuE9NxKP_br",
        "outputId": "298a54fb-e4bf-4fda-c801-569ced32cfd9"
      },
      "execution_count": 24,
      "outputs": [
        {
          "output_type": "display_data",
          "data": {
            "text/plain": [
              "<Figure size 432x288 with 1 Axes>"
            ],
            "image/png": "[encoded data removed]"
          },
          "metadata": {
            "needs_background": "light"
          }
        }
      ]
    },
    {
      "cell_type": "markdown",
      "source": [
        "The model year bar graph technically is a histogram. Histogram the x and y axes are both quantitative. Bar graph has a categorical x value."
      ],
      "metadata": {
        "id": "RCZcPLJqRaK-"
      }
    },
    {
      "cell_type": "markdown",
      "source": [
        "## Histograms\n",
        "Measure the distribution of values for one quantitative values, divided into separate bins. "
      ],
      "metadata": {
        "id": "zQAS-tGJ2Fi3"
      }
    },
    {
      "cell_type": "markdown",
      "source": [
        "calling subplots objects and assign them to ax object"
      ],
      "metadata": {
        "id": "CjJQ7lEzRpuQ"
      }
    },
    {
      "cell_type": "code",
      "source": [
        "fig, ax = plt.subplots()"
      ],
      "metadata": {
        "id": "92OqtrEupzN4",
        "colab": {
          "base_uri": "https://localhost:8080/",
          "height": 269
        },
        "outputId": "7e213dd8-eb62-4b71-fd1e-fb4e27e7d59d"
      },
      "execution_count": 25,
      "outputs": [
        {
          "output_type": "display_data",
          "data": {
            "text/plain": [
              "<Figure size 432x288 with 1 Axes>"
            ],
            "image/png": "[encoded data removed]"
          },
          "metadata": {
            "needs_background": "light"
          }
        }
      ]
    },
    {
      "cell_type": "code",
      "source": [
        "fig, ax = plt.subplots()\n",
        "ax.hist(cars['displacement']);"
      ],
      "metadata": {
        "colab": {
          "base_uri": "https://localhost:8080/",
          "height": 265
        },
        "id": "a3r191mYR4vS",
        "outputId": "afc82668-a424-49a0-c142-302eeb9b9355"
      },
      "execution_count": 30,
      "outputs": [
        {
          "output_type": "display_data",
          "data": {
            "text/plain": [
              "<Figure size 432x288 with 1 Axes>"
            ],
            "image/png": "[encoded data removed]"
          },
          "metadata": {
            "needs_background": "light"
          }
        }
      ]
    },
    {
      "cell_type": "markdown",
      "source": [
        "you can increase or decrease the groupings based on number of bins in the histogram. otherwise as seen above, the default bin is set to 10."
      ],
      "metadata": {
        "id": "CLERkkIWSbb1"
      }
    },
    {
      "cell_type": "code",
      "source": [
        "fig, ax = plt.subplots()\n",
        "ax.hist(cars['displacement'], bins = 5);"
      ],
      "metadata": {
        "colab": {
          "base_uri": "https://localhost:8080/",
          "height": 265
        },
        "id": "CT6S0SXxSf3G",
        "outputId": "77d10410-47f3-4b77-9428-65923a7f5ac7"
      },
      "execution_count": 29,
      "outputs": [
        {
          "output_type": "display_data",
          "data": {
            "text/plain": [
              "<Figure size 432x288 with 1 Axes>"
            ],
            "image/png": "[encoded data removed]"
          },
          "metadata": {
            "needs_background": "light"
          }
        }
      ]
    },
    {
      "cell_type": "markdown",
      "source": [
        "## Box Plots\n",
        "Measures the distribution of a quantitative array of values by visually describing the summary statistics: \n",
        "- min\n",
        "- max\n",
        "- median\n",
        "- 25th and 75th percentile"
      ],
      "metadata": {
        "id": "CJ-K7nch2Mdo"
      }
    },
    {
      "cell_type": "markdown",
      "source": [
        "Box plots are useful to show the outliers based on calculated Min and Max values."
      ],
      "metadata": {
        "id": "0DBGYXnBXuUQ"
      }
    },
    {
      "cell_type": "code",
      "source": [
        "cars['displacement'].describe()"
      ],
      "metadata": {
        "id": "o8OX0PzlqCJq",
        "colab": {
          "base_uri": "https://localhost:8080/"
        },
        "outputId": "470e6e03-e316-4f35-9167-464b8624b523"
      },
      "execution_count": 31,
      "outputs": [
        {
          "output_type": "execute_result",
          "data": {
            "text/plain": [
              "count    398.000000\n",
              "mean     193.425879\n",
              "std      104.269838\n",
              "min       68.000000\n",
              "25%      104.250000\n",
              "50%      148.500000\n",
              "75%      262.000000\n",
              "max      455.000000\n",
              "Name: displacement, dtype: float64"
            ]
          },
          "metadata": {},
          "execution_count": 31
        }
      ]
    },
    {
      "cell_type": "code",
      "source": [
        "fig, ax = plt.subplots()\n",
        "ax.boxplot(cars['displacement']);"
      ],
      "metadata": {
        "colab": {
          "base_uri": "https://localhost:8080/",
          "height": 265
        },
        "id": "qdlu1cBvTZZS",
        "outputId": "32f1a1f7-2a2b-45d7-cba1-0a6c6ad35d41"
      },
      "execution_count": 32,
      "outputs": [
        {
          "output_type": "display_data",
          "data": {
            "text/plain": [
              "<Figure size 432x288 with 1 Axes>"
            ],
            "image/png": "[encoded data removed]"
          },
          "metadata": {
            "needs_background": "light"
          }
        }
      ]
    },
    {
      "cell_type": "markdown",
      "source": [
        "type vert=False to change the orientation. must type big F for False."
      ],
      "metadata": {
        "id": "YIAJzezDT5Ru"
      }
    },
    {
      "cell_type": "code",
      "source": [
        "fig, ax = plt.subplots()\n",
        "ax.boxplot(cars['displacement'], vert=False);"
      ],
      "metadata": {
        "colab": {
          "base_uri": "https://localhost:8080/",
          "height": 265
        },
        "id": "vBh2JVLoTwHN",
        "outputId": "8ae2178b-0111-4116-ba82-d81fc96c6e3b"
      },
      "execution_count": 34,
      "outputs": [
        {
          "output_type": "display_data",
          "data": {
            "text/plain": [
              "<Figure size 432x288 with 1 Axes>"
            ],
            "image/png": "[encoded data removed]"
          },
          "metadata": {
            "needs_background": "light"
          }
        }
      ]
    },
    {
      "cell_type": "markdown",
      "source": [
        "now let's try to plot acceleration"
      ],
      "metadata": {
        "id": "f_-RThT8UXxN"
      }
    },
    {
      "cell_type": "code",
      "source": [
        "fig, ax = plt.subplots()\n",
        "ax.boxplot(cars['acceleration'], vert=False);"
      ],
      "metadata": {
        "colab": {
          "base_uri": "https://localhost:8080/",
          "height": 265
        },
        "id": "a8w7sP4aUbH7",
        "outputId": "eb1d897f-e0d0-4375-8f27-82d63721c3e6"
      },
      "execution_count": 35,
      "outputs": [
        {
          "output_type": "display_data",
          "data": {
            "text/plain": [
              "<Figure size 432x288 with 1 Axes>"
            ],
            "image/png": "[encoded data removed]"
          },
          "metadata": {
            "needs_background": "light"
          }
        }
      ]
    },
    {
      "cell_type": "markdown",
      "source": [
        "you can see the dots are the outliers that fall outside of the min and max values. Min and max are actually calculated using the interquartile range x 1.5. They are not true min and max of my dataset, but are calculated given my median value. Interquartile Range (IQR) is Q3 - Q1. Q3 is the median of the dataset that's higher than the absolute median, and Q1 is the median of the dataset that's lower than the absolute median."
      ],
      "metadata": {
        "id": "yqcUfiTsUebd"
      }
    },
    {
      "cell_type": "markdown",
      "source": [
        "## Scatterplots\n",
        "The values of two variables are plotted along two axes, the pattern of the resulting points revealing any correlation present."
      ],
      "metadata": {
        "id": "Ye9GxDTT2DOK"
      }
    },
    {
      "cell_type": "code",
      "source": [
        "fig, ax = plt.subplots()\n",
        "ax.scatter(x = cars['displacement'], y = cars['mpg']);"
      ],
      "metadata": {
        "id": "V96npXD3qMkM",
        "colab": {
          "base_uri": "https://localhost:8080/",
          "height": 265
        },
        "outputId": "70d0ecc7-4d85-42f7-ea3b-c36075a86a62"
      },
      "execution_count": 36,
      "outputs": [
        {
          "output_type": "display_data",
          "data": {
            "text/plain": [
              "<Figure size 432x288 with 1 Axes>"
            ],
            "image/png": "[encoded data removed]"
          },
          "metadata": {
            "needs_background": "light"
          }
        }
      ]
    },
    {
      "cell_type": "markdown",
      "source": [
        "as your displacement increases, your mpg decreases. understand relationship between two or more variables."
      ],
      "metadata": {
        "id": "6rErA_8fYd1f"
      }
    },
    {
      "cell_type": "markdown",
      "source": [
        "## Matplotlib Parameters\n"
      ],
      "metadata": {
        "id": "JH4Jj5Bp2Lmo"
      }
    },
    {
      "cell_type": "markdown",
      "source": [
        "Google matplotlib documentation"
      ],
      "metadata": {
        "id": "aaLhqNXuYwme"
      }
    },
    {
      "cell_type": "markdown",
      "source": [
        "customize our figure here. can set the size of the figure."
      ],
      "metadata": {
        "id": "xPJCTmj4ZMzx"
      }
    },
    {
      "cell_type": "code",
      "source": [
        "fig, ax = plt.subplots()\n",
        "fig.set_size_inches(12,12)"
      ],
      "metadata": {
        "id": "D9Ct5HsX2CiZ",
        "colab": {
          "base_uri": "https://localhost:8080/",
          "height": 704
        },
        "outputId": "df46d645-3cba-4070-9446-3b77e1a1464a"
      },
      "execution_count": 37,
      "outputs": [
        {
          "output_type": "display_data",
          "data": {
            "text/plain": [
              "<Figure size 864x864 with 1 Axes>"
            ],
            "image/png": "[encoded data removed]"
          },
          "metadata": {
            "needs_background": "light"
          }
        }
      ]
    },
    {
      "cell_type": "markdown",
      "source": [
        "or to add axis objects and title"
      ],
      "metadata": {
        "id": "Xm6BywWsZS4c"
      }
    },
    {
      "cell_type": "markdown",
      "source": [
        "Below is the Object Oriented method of matplotlib. We use \"set_title\""
      ],
      "metadata": {
        "id": "o5mfhK0sSPWY"
      }
    },
    {
      "cell_type": "code",
      "source": [
        "fig, ax = plt.subplots()\n",
        "\n",
        "fig.set_size_inches(10,10)\n",
        "ax.set_title(\"Scatterplot for Cars\", fontdict={'fontsize':26,'color': 'orange'})\n",
        "ax.set_facecolor('purple')\n",
        "ax.scatter(x = cars['displacement'], y = cars['mpg']);"
      ],
      "metadata": {
        "colab": {
          "base_uri": "https://localhost:8080/",
          "height": 618
        },
        "id": "xujMPC3VZuxY",
        "outputId": "db8affc2-be03-491e-cdef-9035bfa45ef7"
      },
      "execution_count": 45,
      "outputs": [
        {
          "output_type": "display_data",
          "data": {
            "text/plain": [
              "<Figure size 720x720 with 1 Axes>"
            ],
            "image/png": "[encoded data removed]"
          },
          "metadata": {
            "needs_background": "light"
          }
        }
      ]
    },
    {
      "cell_type": "markdown",
      "source": [
        "## Seaborn\n"
      ],
      "metadata": {
        "id": "IebwJYVRsly_"
      }
    },
    {
      "cell_type": "markdown",
      "source": [
        "seaborn is a package that is built on top of pandas and matplotlib with the intention of making a lot of graph customization and code more straightforward. sns is a completely different package with its own documentation."
      ],
      "metadata": {
        "id": "ftl-KoDfP0r1"
      }
    },
    {
      "cell_type": "markdown",
      "source": [
        "arguments or objects are stuff inside the ()"
      ],
      "metadata": {
        "id": "gW-ggqFlQQiG"
      }
    },
    {
      "cell_type": "markdown",
      "source": [
        "Below, the first two lines are Individual Function method of matplotlib. note to create the title just type \"title\" instead of \"set title\". the 3rd line is seaborn.\n",
        "the beauty of seaborn is you can include several arguments inside the function at the same time."
      ],
      "metadata": {
        "id": "uBm0bzgVRk-E"
      }
    },
    {
      "cell_type": "markdown",
      "source": [
        "the size argument below in the seaborn line of code means the size of the dots corresponding to the number of cylinders. We can see the cars with high displacement also tend to have larger number of cylinders. the hue argument shows the different colors representing different countries of origin. It suggests that USA cars have high displacement and cylinders. These features add more dynamic to the graph."
      ],
      "metadata": {
        "id": "3g9pLzPLTTNo"
      }
    },
    {
      "cell_type": "code",
      "source": [
        "plt.figure(figsize=(12,12))\n",
        "plt.title('Seaborn Title', fontdict={'fontsize':26})\n",
        "sns.scatterplot(x='displacement', y='mpg', data=cars, size='cylinders', hue='origin');\n"
      ],
      "metadata": {
        "id": "SRDM5650stuy",
        "colab": {
          "base_uri": "https://localhost:8080/",
          "height": 740
        },
        "outputId": "8cc0e09e-4ab3-43d7-ab2f-ed158b8fe3b9"
      },
      "execution_count": 13,
      "outputs": [
        {
          "output_type": "display_data",
          "data": {
            "text/plain": [
              "<Figure size 864x864 with 1 Axes>"
            ],
            "image/png": "[encoded data removed]"
          },
          "metadata": {
            "needs_background": "light"
          }
        }
      ]
    },
    {
      "cell_type": "markdown",
      "source": [
        "## Resources\n",
        "- https://www.python-graph-gallery.com/\n",
        "- https://matplotlib.org/\n",
        "- https://seaborn.pydata.org/"
      ],
      "metadata": {
        "id": "sGFR9Jz8sWEZ"
      }
    },
    {
      "cell_type": "code",
      "source": [
        ""
      ],
      "metadata": {
        "id": "qJ69xfGFsiKD"
      },
      "execution_count": null,
      "outputs": []
    }
  ]
}