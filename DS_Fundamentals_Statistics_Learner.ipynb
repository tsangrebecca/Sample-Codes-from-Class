{
  "nbformat": 4,
  "nbformat_minor": 0,
  "metadata": {
    "colab": {
      "name": "DS_Fundamentals_Statistics_Learner",
      "provenance": [],
      "collapsed_sections": [],
      "include_colab_link": true
    },
    "kernelspec": {
      "name": "python3",
      "display_name": "Python 3"
    },
    "language_info": {
      "name": "python"
    }
  },
  "cells": [
    {
      "cell_type": "markdown",
      "metadata": {
        "id": "view-in-github",
        "colab_type": "text"
      },
      "source": [
        "<a href=\"https://colab.research.google.com/github/tsangrebecca/Sample-Codes-from-Class/blob/main/DS_Fundamentals_Statistics_Learner.ipynb\" target=\"_parent\"><img src=\"https://colab.research.google.com/assets/colab-badge.svg\" alt=\"Open In Colab\"/></a>"
      ]
    },
    {
      "cell_type": "code",
      "execution_count": null,
      "metadata": {
        "id": "okgXIxduEpcp"
      },
      "outputs": [],
      "source": [
        ""
      ]
    },
    {
      "cell_type": "markdown",
      "source": [
        "# Introduction to Statistics\n",
        "\n",
        ">Statistics is a branch of mathematics dealing with the collection, analysis, interpretation, and presentation of masses of numerical data. \n",
        ">\n",
        ">Source: [Merriam-Webster](https://www.merriam-webster.com/dictionary/statistics)"
      ],
      "metadata": {
        "id": "nCP0tQENGyYg"
      }
    },
    {
      "cell_type": "markdown",
      "source": [
        "you always gotta import the libraries!"
      ],
      "metadata": {
        "id": "--tLybJSeaA7"
      }
    },
    {
      "cell_type": "code",
      "source": [
        "import matplotlib.pyplot as plt\n",
        "import pandas as pd\n",
        "import numpy as np\n",
        "import seaborn as sns"
      ],
      "metadata": {
        "id": "xD1OGUfnJeEE"
      },
      "execution_count": 2,
      "outputs": []
    },
    {
      "cell_type": "markdown",
      "source": [
        "## Terms You'll Need to Know"
      ],
      "metadata": {
        "id": "Aeb-TeTXJDyN"
      }
    },
    {
      "cell_type": "markdown",
      "source": [
        "### Mean (or Average)\n",
        "\n",
        "\n",
        "# $\\frac{\\text{Sum of all values}}{\\text{Number of all values}}$\n"
      ],
      "metadata": {
        "id": "b0i06slRJLbV"
      }
    },
    {
      "cell_type": "code",
      "source": [
        ""
      ],
      "metadata": {
        "id": "meSOFELBLzdy"
      },
      "execution_count": null,
      "outputs": []
    },
    {
      "cell_type": "code",
      "source": [
        "test_values=[1,2,5,6,8,12,12,16]\n",
        "test_values"
      ],
      "metadata": {
        "id": "4uG18RNQJ62x",
        "colab": {
          "base_uri": "https://localhost:8080/"
        },
        "outputId": "7a8f83ed-98bd-4d8d-f4b0-a62dbcced808"
      },
      "execution_count": 2,
      "outputs": [
        {
          "output_type": "execute_result",
          "data": {
            "text/plain": [
              "[1, 2, 5, 6, 8, 12, 12, 16]"
            ]
          },
          "metadata": {},
          "execution_count": 2
        }
      ]
    },
    {
      "cell_type": "markdown",
      "source": [
        "len is the number of objects"
      ],
      "metadata": {
        "id": "7hTXDcXCfS40"
      }
    },
    {
      "cell_type": "code",
      "source": [
        "sum(test_values)/len(test_values)"
      ],
      "metadata": {
        "id": "lpboQuIQL5Ah",
        "colab": {
          "base_uri": "https://localhost:8080/"
        },
        "outputId": "92f3ab8a-c4db-4050-8778-509d238261b3"
      },
      "execution_count": 4,
      "outputs": [
        {
          "output_type": "execute_result",
          "data": {
            "text/plain": [
              "7.75"
            ]
          },
          "metadata": {},
          "execution_count": 4
        }
      ]
    },
    {
      "cell_type": "markdown",
      "source": [
        "the S in the syntax has to be capitalized!"
      ],
      "metadata": {
        "id": "wUDZy3jvfv9T"
      }
    },
    {
      "cell_type": "code",
      "source": [
        "#pandas\n",
        "pd.Series(test_values).mean()"
      ],
      "metadata": {
        "id": "5NN459N-L8-K",
        "colab": {
          "base_uri": "https://localhost:8080/"
        },
        "outputId": "0a98f282-d5ce-4c3f-93ea-5f9f908b3337"
      },
      "execution_count": 8,
      "outputs": [
        {
          "output_type": "execute_result",
          "data": {
            "text/plain": [
              "7.75"
            ]
          },
          "metadata": {},
          "execution_count": 8
        }
      ]
    },
    {
      "cell_type": "code",
      "source": [
        ""
      ],
      "metadata": {
        "id": "C85pgq5eJmp7"
      },
      "execution_count": null,
      "outputs": []
    },
    {
      "cell_type": "code",
      "source": [
        ""
      ],
      "metadata": {
        "id": "vMoBEK08MeK1"
      },
      "execution_count": null,
      "outputs": []
    },
    {
      "cell_type": "markdown",
      "source": [
        "###Median\n",
        "If n is even:\n",
        "\n",
        "#$Med(X) = X[\\frac{n}{2}]$\n",
        "\n",
        "If n is odd:\n",
        "\n",
        "#$Med(X) = X[\\frac{X[\\frac{n-1}{2}] + X[\\frac{n + 1}{2}]}{2}]$"
      ],
      "metadata": {
        "id": "fhsdjIyQJLAf"
      }
    },
    {
      "cell_type": "code",
      "source": [
        "np.median(test_values)"
      ],
      "metadata": {
        "id": "u3HiZu3FGHWy",
        "colab": {
          "base_uri": "https://localhost:8080/"
        },
        "outputId": "a0fbc931-e356-4cd8-9df8-9c23e388db77"
      },
      "execution_count": 9,
      "outputs": [
        {
          "output_type": "execute_result",
          "data": {
            "text/plain": [
              "7.0"
            ]
          },
          "metadata": {},
          "execution_count": 9
        }
      ]
    },
    {
      "cell_type": "code",
      "source": [
        ""
      ],
      "metadata": {
        "id": "txVco1pvFzlA"
      },
      "execution_count": null,
      "outputs": []
    },
    {
      "cell_type": "code",
      "source": [
        ""
      ],
      "metadata": {
        "id": "VQvNVB5rGAZN"
      },
      "execution_count": null,
      "outputs": []
    },
    {
      "cell_type": "markdown",
      "source": [
        "### Mode means most frequently occurring number\n",
        "\n",
        "#Mode = $L + h \\frac{(f_m - f_1)}{(f_m - f_1) + (f_m - f_2)}$"
      ],
      "metadata": {
        "id": "Cd98KHb0JLDn"
      }
    },
    {
      "cell_type": "code",
      "source": [
        "import scipy.stats as st"
      ],
      "metadata": {
        "id": "Lt_-igrDfYv3"
      },
      "execution_count": 10,
      "outputs": []
    },
    {
      "cell_type": "code",
      "source": [
        "st.mode(test_values)"
      ],
      "metadata": {
        "id": "kq7CfIPOMHjF",
        "colab": {
          "base_uri": "https://localhost:8080/"
        },
        "outputId": "7dd9fdd1-1692-459b-b316-966a2254de9e"
      },
      "execution_count": 11,
      "outputs": [
        {
          "output_type": "execute_result",
          "data": {
            "text/plain": [
              "ModeResult(mode=array([12]), count=array([2]))"
            ]
          },
          "metadata": {},
          "execution_count": 11
        }
      ]
    },
    {
      "cell_type": "markdown",
      "source": [
        "12 means the number, and 2 means how often the number 12 appears"
      ],
      "metadata": {
        "id": "SybmRVW0gURm"
      }
    },
    {
      "cell_type": "code",
      "source": [
        ""
      ],
      "metadata": {
        "id": "1hhR0IG_MZhJ"
      },
      "execution_count": null,
      "outputs": []
    },
    {
      "cell_type": "markdown",
      "source": [
        "### Standard Deviation"
      ],
      "metadata": {
        "id": "UFCHKiemJK8C"
      }
    },
    {
      "cell_type": "markdown",
      "source": [
        "*For a population*\n",
        "\n",
        "#$σ = \\sqrt{\\frac{\\Sigma(x_i - \\mu)^2}{N} }$"
      ],
      "metadata": {
        "id": "AqenjImAWzby"
      }
    },
    {
      "cell_type": "markdown",
      "source": [
        "xi is one of the numbers in the list. u is the average value, N is number of values in that population"
      ],
      "metadata": {
        "id": "4ky_ASJjgg3W"
      }
    },
    {
      "cell_type": "markdown",
      "source": [
        "for pandas, you'll have to call the .Series() first before calling the function that you want. in this case, std()"
      ],
      "metadata": {
        "id": "y6dJy8izhMkm"
      }
    },
    {
      "cell_type": "code",
      "source": [
        "pd.Series(test_values).std()"
      ],
      "metadata": {
        "id": "VfLCaKtQWvqU",
        "colab": {
          "base_uri": "https://localhost:8080/"
        },
        "outputId": "f38ec6d3-4abf-410b-be25-81eaa8fa63a2"
      },
      "execution_count": 13,
      "outputs": [
        {
          "output_type": "execute_result",
          "data": {
            "text/plain": [
              "5.257647491307984"
            ]
          },
          "metadata": {},
          "execution_count": 13
        }
      ]
    },
    {
      "cell_type": "code",
      "source": [
        "\n"
      ],
      "metadata": {
        "id": "cjEGloRcG1A2"
      },
      "execution_count": null,
      "outputs": []
    },
    {
      "cell_type": "markdown",
      "source": [
        "### What's the Standard Deviation For?\n",
        "The standard deviation tells us about the spread of the data set in relation to the mean. \n"
      ],
      "metadata": {
        "id": "HN8phISah5Nx"
      }
    },
    {
      "cell_type": "markdown",
      "source": [
        "below we're going to create a random set of numbers with an average of 0 and a standard spread of 5 in this case. and start off with 100 values."
      ],
      "metadata": {
        "id": "--C-2DZyioAS"
      }
    },
    {
      "cell_type": "code",
      "source": [
        "#run with 100 and then with 1000\n",
        "distribution = np.random.normal(loc=0, scale=5, size=100)\n",
        "dist_sd = distribution.std()\n",
        "dist_mean = distribution.mean()\n",
        "\n",
        "sns.displot(distribution)\n",
        "plt.axvline(dist_mean - dist_sd) \n",
        "plt.axvline(dist_mean + dist_sd);\n"
      ],
      "metadata": {
        "id": "hi6wK54PiIFp",
        "colab": {
          "base_uri": "https://localhost:8080/",
          "height": 369
        },
        "outputId": "8ff8a25a-ff9e-4586-c648-2c19bfd70162"
      },
      "execution_count": 21,
      "outputs": [
        {
          "output_type": "display_data",
          "data": {
            "text/plain": [
              "<Figure size 360x360 with 1 Axes>"
            ],
            "image/png": "[encoded data removed]"
          },
          "metadata": {
            "needs_background": "light"
          }
        }
      ]
    },
    {
      "cell_type": "code",
      "source": [
        "#run with a larger standard deviation\n",
        "distribution = np.random.normal(loc=0, scale=15, size=100)\n",
        "dist_sd = distribution.std()\n",
        "dist_mean = distribution.mean()\n",
        "\n",
        "sns.displot(distribution)\n",
        "plt.axvline(dist_mean - dist_sd) \n",
        "plt.axvline(dist_mean + dist_sd);"
      ],
      "metadata": {
        "id": "nXWF0SagnmRy",
        "colab": {
          "base_uri": "https://localhost:8080/",
          "height": 369
        },
        "outputId": "aaf1f866-f83a-43ac-bb08-11a4053e5dbf"
      },
      "execution_count": 22,
      "outputs": [
        {
          "output_type": "display_data",
          "data": {
            "text/plain": [
              "<Figure size 360x360 with 1 Axes>"
            ],
            "image/png": "[encoded data removed]"
          },
          "metadata": {
            "needs_background": "light"
          }
        }
      ]
    },
    {
      "cell_type": "code",
      "source": [
        "#run with a larger sample size, will get more of a bell shaped curve\n",
        "distribution = np.random.normal(loc=0, scale=15, size=1000)\n",
        "dist_sd = distribution.std()\n",
        "dist_mean = distribution.mean()\n",
        "\n",
        "sns.displot(distribution)\n",
        "plt.axvline(dist_mean - dist_sd) \n",
        "plt.axvline(dist_mean + dist_sd);"
      ],
      "metadata": {
        "id": "duIiemgioDCk",
        "colab": {
          "base_uri": "https://localhost:8080/",
          "height": 369
        },
        "outputId": "4a040ecb-f764-4252-8d4e-6c5616703acf"
      },
      "execution_count": 3,
      "outputs": [
        {
          "output_type": "display_data",
          "data": {
            "text/plain": [
              "<Figure size 360x360 with 1 Axes>"
            ],
            "image/png": "[encoded data removed]"
          },
          "metadata": {
            "needs_background": "light"
          }
        }
      ]
    },
    {
      "cell_type": "markdown",
      "source": [
        "# Distributions\n",
        "\n",
        "The average for an adult female height is 64 inches, while adult males have a height of 69 inches. \n",
        "\n",
        "According to the National Bureau of Economic Research, adult male height is normally distributed with a standard deviation of about 2.5 inches (6.35 cm) while female height is normally distributed with a standard deviation of about 2.2 inches (5.59 cm)\n",
        "\n",
        "Source:\n",
        "https://worldpopulationreview.com/state-rankings/average-height-by-state\n",
        "https://www.nber.org/system/files/working_papers/h0108/h0108.pdf"
      ],
      "metadata": {
        "id": "W4xlb9uRhg1f"
      }
    },
    {
      "cell_type": "code",
      "source": [
        "#for women\n",
        "distribution = np.random.normal(loc=64, scale=2.2, size=1000)\n",
        "\n",
        "dist_sd = distribution.std()\n",
        "dist_mean = distribution.mean()\n",
        "\n",
        "sns.displot(distribution)\n",
        "plt.axvline(dist_mean - dist_sd)\n",
        "plt.axvline(dist_mean + dist_sd);"
      ],
      "metadata": {
        "id": "jpVvd8gYhlb7",
        "colab": {
          "base_uri": "https://localhost:8080/",
          "height": 369
        },
        "outputId": "0b54e15b-e05e-49b6-e6db-3a941cee32b6"
      },
      "execution_count": 10,
      "outputs": [
        {
          "output_type": "display_data",
          "data": {
            "text/plain": [
              "<Figure size 360x360 with 1 Axes>"
            ],
            "image/png": "[encoded data removed]"
          },
          "metadata": {
            "needs_background": "light"
          }
        }
      ]
    },
    {
      "cell_type": "markdown",
      "source": [
        "#Z-Score\n",
        "\n",
        "For a sample:\n",
        "#$z_i = \\frac{x_i - \\bar{x}}{s}$\n",
        "\n",
        "The standard score gives you an idea of how far from the mean a data point is. \n",
        "\n",
        "How tall are you? "
      ],
      "metadata": {
        "id": "W47SRb1YjJcr"
      }
    },
    {
      "cell_type": "code",
      "source": [
        "x = 71\n",
        "\n",
        "dist_sd = distribution.std()\n",
        "dist_mean = distribution.mean()\n",
        "\n",
        "sns.displot(distribution)\n",
        "plt.axvline(dist_mean - dist_sd)\n",
        "plt.axvline(dist_mean + dist_sd)\n",
        "\n",
        "plt.axvline(x, color='r')"
      ],
      "metadata": {
        "id": "px45rWD2iyH3",
        "colab": {
          "base_uri": "https://localhost:8080/",
          "height": 386
        },
        "outputId": "01496456-86c4-4c73-bb5a-4f442a28aff9"
      },
      "execution_count": 12,
      "outputs": [
        {
          "output_type": "execute_result",
          "data": {
            "text/plain": [
              "<matplotlib.lines.Line2D at 0x7f4c97790850>"
            ]
          },
          "metadata": {},
          "execution_count": 12
        },
        {
          "output_type": "display_data",
          "data": {
            "text/plain": [
              "<Figure size 360x360 with 1 Axes>"
            ],
            "image/png": "[encoded data removed]"
          },
          "metadata": {
            "needs_background": "light"
          }
        }
      ]
    },
    {
      "cell_type": "code",
      "source": [
        "dist_mean + 3*dist_sd"
      ],
      "metadata": {
        "id": "KWRs4D-CoXBL",
        "colab": {
          "base_uri": "https://localhost:8080/"
        },
        "outputId": "a1460275-7bbf-4749-f501-305ca34cdbc1"
      },
      "execution_count": 13,
      "outputs": [
        {
          "output_type": "execute_result",
          "data": {
            "text/plain": [
              "70.39324034870089"
            ]
          },
          "metadata": {},
          "execution_count": 13
        }
      ]
    },
    {
      "cell_type": "markdown",
      "source": [
        "x = 71 is above 3 standard deviations"
      ],
      "metadata": {
        "id": "lwtUQobGGjPu"
      }
    },
    {
      "cell_type": "code",
      "source": [
        "z_score = (x - dist_mean)/dist_sd\n",
        "z_score"
      ],
      "metadata": {
        "id": "gXsAd88tltQR",
        "colab": {
          "base_uri": "https://localhost:8080/"
        },
        "outputId": "4957bb83-ebfc-439a-f3b6-16942d9fbd80"
      },
      "execution_count": 14,
      "outputs": [
        {
          "output_type": "execute_result",
          "data": {
            "text/plain": [
              "3.2807035579238515"
            ]
          },
          "metadata": {},
          "execution_count": 14
        }
      ]
    },
    {
      "cell_type": "markdown",
      "source": [
        "this individual's height is outside of the 3 standard deviations."
      ],
      "metadata": {
        "id": "_AXCoHNTG-F5"
      }
    },
    {
      "cell_type": "code",
      "source": [
        "distribution > 70.4"
      ],
      "metadata": {
        "id": "a9yRlWMEl6_s",
        "colab": {
          "base_uri": "https://localhost:8080/"
        },
        "outputId": "90c80c43-1cfe-4ed5-e13b-94dd56d80eed"
      },
      "execution_count": 15,
      "outputs": [
        {
          "output_type": "execute_result",
          "data": {
            "text/plain": [
              "array([False, False, False, False, False, False, False, False, False,\n",
              "       False, False, False, False, False, False, False, False, False,\n",
              "       False, False, False, False, False, False, False, False, False,\n",
              "       False, False, False, False, False, False, False, False, False,\n",
              "       False, False, False, False, False, False, False, False, False,\n",
              "       False, False, False, False, False, False, False, False, False,\n",
              "       False, False, False, False, False, False, False, False, False,\n",
              "       False, False, False, False, False, False, False, False, False,\n",
              "       False, False, False, False, False, False, False, False, False,\n",
              "       False, False, False, False, False, False, False, False, False,\n",
              "       False, False, False, False, False, False, False, False, False,\n",
              "       False, False, False, False, False, False, False, False, False,\n",
              "       False, False, False, False, False, False, False, False, False,\n",
              "       False, False, False, False, False, False, False, False, False,\n",
              "       False, False, False, False, False, False, False, False, False,\n",
              "       False, False, False, False, False, False, False, False, False,\n",
              "       False, False, False, False, False, False, False, False, False,\n",
              "       False, False, False, False, False, False, False, False, False,\n",
              "       False, False, False, False, False, False, False, False, False,\n",
              "       False, False, False, False, False, False, False, False, False,\n",
              "       False, False, False, False, False, False, False, False, False,\n",
              "       False, False, False, False, False, False, False, False, False,\n",
              "       False, False, False, False, False, False, False, False, False,\n",
              "       False, False, False, False, False, False, False, False, False,\n",
              "       False, False, False, False, False, False, False, False, False,\n",
              "       False, False, False, False, False, False, False, False, False,\n",
              "       False, False, False, False, False, False, False, False, False,\n",
              "       False, False, False, False, False, False, False, False, False,\n",
              "       False, False, False, False, False, False, False, False, False,\n",
              "       False, False, False, False, False, False, False, False, False,\n",
              "       False, False, False, False, False, False, False, False, False,\n",
              "       False, False, False, False, False, False, False, False, False,\n",
              "       False, False, False, False, False, False, False, False, False,\n",
              "       False, False, False, False, False, False, False, False, False,\n",
              "       False, False, False, False, False, False, False, False, False,\n",
              "       False, False, False, False, False, False, False, False, False,\n",
              "       False, False, False, False, False, False, False, False, False,\n",
              "       False, False, False, False, False, False, False, False, False,\n",
              "       False, False, False, False, False, False, False, False, False,\n",
              "       False, False, False, False, False, False, False, False, False,\n",
              "       False, False, False, False, False, False, False, False, False,\n",
              "       False, False, False, False, False, False, False, False, False,\n",
              "       False, False, False, False, False, False, False, False, False,\n",
              "       False, False, False, False, False, False, False, False, False,\n",
              "       False, False, False, False, False, False, False, False, False,\n",
              "       False, False, False, False, False, False, False, False, False,\n",
              "       False, False, False, False, False, False, False, False, False,\n",
              "       False, False, False, False, False, False, False, False, False,\n",
              "       False, False, False, False, False, False, False, False, False,\n",
              "       False, False, False, False, False, False, False, False, False,\n",
              "       False, False, False, False, False, False, False, False, False,\n",
              "       False, False, False, False, False, False, False, False, False,\n",
              "       False, False, False, False, False, False, False, False, False,\n",
              "       False, False, False, False, False, False, False, False, False,\n",
              "       False, False, False, False, False, False, False, False, False,\n",
              "       False, False, False, False, False, False, False, False, False,\n",
              "       False, False, False, False, False, False, False, False, False,\n",
              "       False, False, False, False, False, False, False, False, False,\n",
              "       False, False, False, False, False, False, False, False, False,\n",
              "       False, False, False, False, False, False, False, False, False,\n",
              "       False, False, False, False, False, False, False, False, False,\n",
              "       False, False, False, False, False, False, False, False, False,\n",
              "       False, False, False, False, False, False, False, False, False,\n",
              "       False, False, False, False, False, False, False, False, False,\n",
              "       False, False, False, False, False, False, False, False, False,\n",
              "       False, False, False, False, False, False, False, False, False,\n",
              "       False, False, False, False, False, False, False, False, False,\n",
              "       False, False, False, False, False, False, False, False, False,\n",
              "       False, False, False, False, False, False, False, False, False,\n",
              "       False, False, False, False, False, False, False, False, False,\n",
              "       False, False, False, False, False, False, False, False, False,\n",
              "       False, False, False, False, False, False, False, False, False,\n",
              "       False, False, False, False, False, False, False, False, False,\n",
              "       False, False, False, False, False, False, False, False, False,\n",
              "       False, False, False, False, False, False, False, False, False,\n",
              "       False, False, False, False, False, False, False, False, False,\n",
              "       False, False, False, False, False, False, False, False, False,\n",
              "       False, False, False, False, False, False, False, False, False,\n",
              "       False, False, False, False, False, False, False, False, False,\n",
              "       False, False, False, False, False, False, False, False, False,\n",
              "       False, False, False, False, False, False,  True, False, False,\n",
              "       False, False, False, False, False, False, False, False, False,\n",
              "       False, False, False, False, False, False, False, False, False,\n",
              "       False, False, False, False, False, False, False, False, False,\n",
              "       False, False, False, False, False, False, False, False, False,\n",
              "       False, False, False, False, False, False, False, False, False,\n",
              "       False, False, False, False, False, False, False, False, False,\n",
              "       False, False, False, False, False, False, False, False, False,\n",
              "       False, False, False, False, False, False, False, False, False,\n",
              "       False, False, False, False, False, False, False, False, False,\n",
              "       False, False, False, False, False, False, False, False, False,\n",
              "       False, False, False, False, False, False, False, False, False,\n",
              "       False, False, False, False, False, False, False, False, False,\n",
              "       False, False, False, False, False, False, False, False, False,\n",
              "       False, False, False, False, False, False, False, False, False,\n",
              "       False, False, False, False, False, False, False, False, False,\n",
              "       False, False, False, False, False, False, False, False, False,\n",
              "       False, False, False, False, False, False, False, False, False,\n",
              "       False, False, False, False, False, False, False, False, False,\n",
              "       False, False, False, False, False, False, False, False, False,\n",
              "       False, False, False, False, False, False, False, False, False,\n",
              "       False, False, False, False, False, False, False, False, False,\n",
              "       False, False, False, False, False, False, False, False, False,\n",
              "       False, False, False, False, False, False, False, False, False,\n",
              "       False, False, False, False, False, False, False, False, False,\n",
              "       False, False, False, False, False, False, False, False, False,\n",
              "       False, False, False, False, False, False, False, False, False,\n",
              "       False, False, False, False, False, False, False, False, False,\n",
              "       False, False, False, False, False, False, False, False, False,\n",
              "       False, False, False, False, False, False, False, False, False,\n",
              "       False, False, False, False, False, False, False, False, False,\n",
              "       False])"
            ]
          },
          "metadata": {},
          "execution_count": 15
        }
      ]
    },
    {
      "cell_type": "code",
      "source": [
        "#use a mask filter\n",
        "distribution[distribution > 70.4]"
      ],
      "metadata": {
        "colab": {
          "base_uri": "https://localhost:8080/"
        },
        "id": "UNfn-m_xIHto",
        "outputId": "b8ea02cd-fa04-4c32-c6e0-24ca10948882"
      },
      "execution_count": 18,
      "outputs": [
        {
          "output_type": "execute_result",
          "data": {
            "text/plain": [
              "array([70.6543299])"
            ]
          },
          "metadata": {},
          "execution_count": 18
        }
      ]
    },
    {
      "cell_type": "markdown",
      "source": [
        "only one individual living outside of the 3 std dev"
      ],
      "metadata": {
        "id": "JHNbnZMqIXek"
      }
    },
    {
      "cell_type": "code",
      "source": [
        "#probability of this happening\n",
        "1/1000"
      ],
      "metadata": {
        "id": "mUqpzNmQoMur",
        "colab": {
          "base_uri": "https://localhost:8080/"
        },
        "outputId": "449e5a41-a03c-48cd-f217-5e176eb4501c"
      },
      "execution_count": 17,
      "outputs": [
        {
          "output_type": "execute_result",
          "data": {
            "text/plain": [
              "0.001"
            ]
          },
          "metadata": {},
          "execution_count": 17
        }
      ]
    },
    {
      "cell_type": "markdown",
      "source": [
        "## Conclusion\n",
        "There are many terms and additional concepts we will be discussing in class. Our main goal will be focusing on interpreting our results of where they may possibly be located along a particular distribution. "
      ],
      "metadata": {
        "id": "7hh0w5ZcnRuH"
      }
    },
    {
      "cell_type": "code",
      "source": [
        ""
      ],
      "metadata": {
        "id": "n8pycxp5npkg"
      },
      "execution_count": null,
      "outputs": []
    }
  ]
}